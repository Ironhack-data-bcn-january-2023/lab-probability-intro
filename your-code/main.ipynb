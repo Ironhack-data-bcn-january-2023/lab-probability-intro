{
 "cells": [
  {
   "cell_type": "markdown",
   "metadata": {},
   "source": [
    "# Probability"
   ]
  },
  {
   "cell_type": "markdown",
   "metadata": {},
   "source": [
    "## Challenge 1\n",
    "There is a box with 10 white balls, 12 red balls and 8 black balls. Calculate the probability of:\n",
    "* Taking a white ball out.\n",
    "* Taking a white ball on first extraction and a black ball out on second extraction without replacing the first one.\n",
    "* Taking a white ball on first extraction and a black ball out on second extraction replacing the first one.\n",
    "* Taking 3 balls and them being all different colours."
   ]
  },
  {
   "cell_type": "code",
   "execution_count": 3,
   "metadata": {},
   "outputs": [
    {
     "data": {
      "text/plain": [
       "0.3333333333333333"
      ]
     },
     "execution_count": 3,
     "metadata": {},
     "output_type": "execute_result"
    }
   ],
   "source": [
    "total_balls = 10 + 12 + 8\n",
    "white_balls = 10\n",
    "probability_white = white_balls/total_balls\n",
    "probability_white"
   ]
  },
  {
   "cell_type": "code",
   "execution_count": 7,
   "metadata": {},
   "outputs": [
    {
     "data": {
      "text/plain": [
       "0.09195402298850575"
      ]
     },
     "execution_count": 7,
     "metadata": {},
     "output_type": "execute_result"
    }
   ],
   "source": [
    "black_balls = 8\n",
    "probability_black = black_balls/(total_balls -1)\n",
    "probability = probability_white*probability_black\n",
    "probability"
   ]
  },
  {
   "cell_type": "code",
   "execution_count": 8,
   "metadata": {},
   "outputs": [
    {
     "data": {
      "text/plain": [
       "0.08888888888888888"
      ]
     },
     "execution_count": 8,
     "metadata": {},
     "output_type": "execute_result"
    }
   ],
   "source": [
    "probability_black = black_balls/total_balls\n",
    "probability = probability_white*probability_black\n",
    "probability"
   ]
  },
  {
   "cell_type": "code",
   "execution_count": 14,
   "metadata": {},
   "outputs": [
    {
     "data": {
      "text/plain": [
       "0.23645320197044334"
      ]
     },
     "execution_count": 14,
     "metadata": {},
     "output_type": "execute_result"
    }
   ],
   "source": [
    "total_balls = 10 + 12 + 8\n",
    "total_ways = total_balls * (total_balls - 1) * (total_balls - 2)\n",
    "different_ways = 10 * 12 * 8 * 6\n",
    "probability = different_ways / total_ways\n",
    "probability"
   ]
  },
  {
   "cell_type": "markdown",
   "metadata": {},
   "source": [
    "## Challenge 2\n",
    "\n",
    "You want to go on picnic on Saturday. You hate rain, and would know to plan your weekend. To help you make a decision, you gather the following data about rainy days:\n",
    "\n",
    "* 40% of all days are cloudy.\n",
    "* About 50% of cloudy days are rainy. \n",
    "* About 20% of non-cloudy days are rainy.\n",
    "\n",
    "What is the chance of rain during next Saturday?"
   ]
  },
  {
   "cell_type": "code",
   "execution_count": 15,
   "metadata": {},
   "outputs": [
    {
     "data": {
      "text/plain": [
       "'\\nR = Rain\\nC = Cloudy\\nProb = Probability\\n\\nProb(R|C) = Prob(C|R) * Prob(R) / Prob(C)\\n\\n--> Prob(C) = 0.4 (40% of all days are cloudy)\\n--> Prob(C|R) = 1 - P(non-cloudy|R) = 1 - 0.8 = 0.2 \\n(since 80% of rainy days are cloudy, then 20% of rainy days are non-cloudy)\\n--> Prob(R) = Prob(R|C) * Prob(C) + Prob(R|non-C) * Prob(non-C) = 0.5 * 0.4 + 0.2 * 0.6 = 0.32 (using the law of total probability).\\n\\n\\nProb(R|C) = 0.5 * 0.4 / 0.4 = 0.5\\n\\n'"
      ]
     },
     "execution_count": 15,
     "metadata": {},
     "output_type": "execute_result"
    }
   ],
   "source": [
    "\"\"\"\n",
    "R = Rain\n",
    "C = Cloudy\n",
    "Prob = Probability\n",
    "\n",
    "Prob(R|C) = Prob(C|R) * Prob(R) / Prob(C)\n",
    "\n",
    "--> Prob(C) = 0.4 (40% of all days are cloudy)\n",
    "--> Prob(C|R) = 1 - P(non-cloudy|R) = 1 - 0.8 = 0.2 \n",
    "(since 80% of rainy days are cloudy, then 20% of rainy days are non-cloudy)\n",
    "\n",
    "Prob(R) = Prob(R|C) * Prob(C) + Prob(R|non-C) * Prob(non-C) = 0.5 * 0.4 + 0.2 * 0.6 = 0.32 \n",
    "(using the law of total probability)\n",
    "\n",
    "\n",
    "Prob(R|C) = 0.5 * 0.4 / 0.4 = 0.5\n",
    "\n",
    "\"\"\""
   ]
  },
  {
   "cell_type": "code",
   "execution_count": null,
   "metadata": {},
   "outputs": [],
   "source": [
    "0.5 * 0.4 + 0.2 * 0.6 "
   ]
  },
  {
   "cell_type": "markdown",
   "metadata": {},
   "source": [
    "## Challenge 3\n",
    "\n",
    "A and B are events of a probability such that $P(A) = 0.3$, $P(B) = 0.6$ and $P(A \\cap B) = 0.1$\n",
    "\n",
    "Which of the following statements are true?  \n",
    "**HINT: draw a big Venn Diagram by your side**  \n",
    "* $P(\\overline{A}) = 0.7$\n",
    "* $P(A \\cup B) = 0.6$\n",
    "* $P(A \\cap \\overline{B}) = 0.2$\n",
    "* $P(A \\cup \\overline{A}) = 1$  \n",
    "* $P(A \\cap (B \\cup \\overline{B})) = 0.4$\n",
    "* $P(\\overline{A} \\cap \\overline{B}) = 0.3$\n",
    "* $P(\\overline{A \\cap B}) = 0.9$"
   ]
  },
  {
   "cell_type": "markdown",
   "metadata": {},
   "source": [
    "Solution\n",
    "* 𝑃(𝐴⎯⎯⎯⎯)=0.7 --> True\n",
    "* 𝑃(𝐴∪𝐵)=0.6 --> False 0.8\n",
    "* 𝑃(𝐴∩𝐵⎯⎯⎯⎯)=0.2 --> True\n",
    "* 𝑃(𝐴∪𝐴⎯⎯⎯⎯)=1 --> True\n",
    "* 𝑃(𝐴∩(𝐵∪𝐵⎯⎯⎯⎯))=0.4 --> False 0.3\n",
    "* 𝑃(𝐴⎯⎯⎯⎯∩𝐵⎯⎯⎯⎯)=0.3 --> False 0.2\n",
    "* 𝑃(𝐴∩𝐵⎯⎯⎯⎯⎯⎯⎯⎯⎯⎯⎯⎯⎯⎯⎯)=0.9 --> True"
   ]
  },
  {
   "cell_type": "markdown",
   "metadata": {},
   "source": [
    "## Challenge 4\n",
    "\n",
    " * If someone flies to China, the probability of getting Covid is 1%  \n",
    " * If someone flies to Italy, the probability of getting Covid is 20%  \n",
    "\n",
    "I roll 1 dice with numbers 1, 2, 3, 4, 5, 6:  \n",
    " * If 1: I fly to Italy\n",
    " * If not 1: I fly to China\n",
    "\n",
    "During my trip, I got Covid. What is the probability that I flew to China?"
   ]
  },
  {
   "cell_type": "code",
   "execution_count": 16,
   "metadata": {},
   "outputs": [
    {
     "name": "stdout",
     "output_type": "stream",
     "text": [
      "The probability of flying to China given that the person got Covid is 20.0%\n"
     ]
    }
   ],
   "source": [
    "p_covid_given_china = 0.01\n",
    "p_covid_given_italy = 0.2\n",
    "p_china = 5/6\n",
    "p_not_china = 1/6\n",
    "\n",
    "# Probability of getting Covid\n",
    "p_covid = p_covid_given_china * p_china + p_covid_given_italy * p_not_china\n",
    "# Probability of flying to China given that the person got Covid\n",
    "p_china_given_covid = (p_covid_given_china * p_china) / p_covid\n",
    "print(f\"The probability of flying to China given that the person got Covid is {p_china_given_covid:.1%}\")"
   ]
  },
  {
   "cell_type": "markdown",
   "metadata": {},
   "source": [
    "## BONUS\n",
    "\n",
    "You roll 2 dice. What is the probability that the sum of the numbers is 7? And 8? And 9? Then simulate 10000 times and draw a countplot."
   ]
  },
  {
   "cell_type": "markdown",
   "metadata": {},
   "source": [
    "your explanation here"
   ]
  },
  {
   "cell_type": "code",
   "execution_count": null,
   "metadata": {},
   "outputs": [],
   "source": [
    "# your code here"
   ]
  },
  {
   "cell_type": "code",
   "execution_count": null,
   "metadata": {},
   "outputs": [],
   "source": [
    "\"\"\"\n",
    "your solution here\n",
    "\"\"\""
   ]
  }
 ],
 "metadata": {
  "kernelspec": {
   "display_name": "Python 3 (ipykernel)",
   "language": "python",
   "name": "python3"
  },
  "language_info": {
   "codemirror_mode": {
    "name": "ipython",
    "version": 3
   },
   "file_extension": ".py",
   "mimetype": "text/x-python",
   "name": "python",
   "nbconvert_exporter": "python",
   "pygments_lexer": "ipython3",
   "version": "3.9.12"
  },
  "toc": {
   "base_numbering": 1,
   "nav_menu": {},
   "number_sections": false,
   "sideBar": true,
   "skip_h1_title": false,
   "title_cell": "Table of Contents",
   "title_sidebar": "Contents",
   "toc_cell": false,
   "toc_position": {
    "height": "calc(100% - 180px)",
    "left": "10px",
    "top": "150px",
    "width": "296.475px"
   },
   "toc_section_display": true,
   "toc_window_display": false
  },
  "varInspector": {
   "cols": {
    "lenName": 16,
    "lenType": 16,
    "lenVar": 40
   },
   "kernels_config": {
    "python": {
     "delete_cmd_postfix": "",
     "delete_cmd_prefix": "del ",
     "library": "var_list.py",
     "varRefreshCmd": "print(var_dic_list())"
    },
    "r": {
     "delete_cmd_postfix": ") ",
     "delete_cmd_prefix": "rm(",
     "library": "var_list.r",
     "varRefreshCmd": "cat(var_dic_list()) "
    }
   },
   "types_to_exclude": [
    "module",
    "function",
    "builtin_function_or_method",
    "instance",
    "_Feature"
   ],
   "window_display": false
  }
 },
 "nbformat": 4,
 "nbformat_minor": 2
}
