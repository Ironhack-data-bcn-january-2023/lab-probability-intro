{
 "cells": [
  {
   "cell_type": "markdown",
   "metadata": {},
   "source": [
    "# Probability"
   ]
  },
  {
   "cell_type": "markdown",
   "metadata": {},
   "source": [
    "## Challenge 1\n",
    "There is a box with 10 white balls, 12 red balls and 8 black balls. Calculate the probability of:\n",
    "* Taking a white ball out.\n",
    "* Taking a white ball on first extraction and a black ball out on second extraction without replacing the first one.\n",
    "* Taking a white ball on first extraction and a black ball out on second extraction replacing the first one.\n",
    "* Taking 3 balls and them being all different colours."
   ]
  },
  {
   "cell_type": "code",
   "execution_count": 7,
   "metadata": {},
   "outputs": [],
   "source": [
    "import math"
   ]
  },
  {
   "cell_type": "code",
   "execution_count": 10,
   "metadata": {},
   "outputs": [
    {
     "name": "stdout",
     "output_type": "stream",
     "text": [
      "The probability of taking out a white ball is: 0.333\n",
      "The probability of taking a white ball on first extraction and a black ball out on second extraction without replacing the first one is: 0.092\n",
      "The probability of taking a white ball on first extraction and a black ball out on second extraction replacing the first one is: 0.089\n",
      "The probability of taking 3 balls and them being all different colours is: 0.236\n"
     ]
    }
   ],
   "source": [
    "# Taking a white ball\n",
    "white_balls = 10\n",
    "red_balls = 12\n",
    "black_balls = 8\n",
    "total_balls = white_balls + red_balls + black_balls\n",
    "\n",
    "p_white_ball = white_balls / total_balls\n",
    "\n",
    "print(f\"The probability of taking out a white ball is: {round(p_white_ball,3)}\")\n",
    "\n",
    "\n",
    "# Taking a white ball on first extraction and a black ball out on second extraction without replacing the first one.\n",
    "p_w_first = white_balls / total_balls\n",
    "p_b_second = black_balls / (total_balls - 1)\n",
    "\n",
    "p_2 = p_w_first * p_b_second\n",
    "\n",
    "print(f\"The probability of taking a white ball on first extraction and a black ball out on second extraction without replacing the first one is: {round(p_2,3)}\")\n",
    "\n",
    "\n",
    "# Taking a white ball on first extraction and a black ball out on second extraction replacing the first one.\n",
    "p_w_first_2 = white_balls / total_balls\n",
    "p_b_second_2 = black_balls / total_balls\n",
    "\n",
    "p_3 = p_w_first_2 * p_b_second_2\n",
    "\n",
    "print(f\"The probability of taking a white ball on first extraction and a black ball out on second extraction replacing the first one is: {round(p_3,3)}\")\n",
    "\n",
    "\n",
    "# Taking 3 balls and them being all different colours.\n",
    "\n",
    "total_combinations = (math.factorial(total_balls)) / (math.factorial(3)*math.factorial(30-3))\n",
    "three_different = 10*12*8\n",
    "\n",
    "p_4 = three_different / total_combinations\n",
    "\n",
    "print(f\"The probability of taking 3 balls and them being all different colours is: {round(p_4,3)}\")\n"
   ]
  },
  {
   "cell_type": "markdown",
   "metadata": {},
   "source": [
    "## Challenge 2\n",
    "\n",
    "You want to go on picnic on Saturday. You hate rain, and would know to plan your weekend. To help you make a decision, you gather the following data about rainy days:\n",
    "\n",
    "* 40% of all days are cloudy.\n",
    "* About 50% of cloudy days are rainy. \n",
    "* About 20% of non-cloudy days are rainy.\n",
    "\n",
    "What is the chance of rain during next Saturday?"
   ]
  },
  {
   "cell_type": "code",
   "execution_count": 11,
   "metadata": {},
   "outputs": [
    {
     "name": "stdout",
     "output_type": "stream",
     "text": [
      "The chance of rain is: 0.32\n"
     ]
    }
   ],
   "source": [
    "p_cloudy = 0.4\n",
    "p_sunny = 1-p_cloudy\n",
    "\n",
    "p_cloudy_rain = 0.5\n",
    "p_cloudy_no_rain = 1- p_cloudy_rain\n",
    "\n",
    "p_clear_rain = 0.2\n",
    "p_clear_no_rain = 1 - p_clear_rain\n",
    "\n",
    "chance_of_rain = (p_cloudy*p_cloudy_rain) + (p_sunny*p_clear_rain)\n",
    "\n",
    "print(f\"The chance of rain is: {round(chance_of_rain,3)}\")\n"
   ]
  },
  {
   "attachments": {},
   "cell_type": "markdown",
   "metadata": {},
   "source": [
    "## Challenge 3\n",
    "\n",
    "A and B are events of a probability such that $P(A) = 0.3$, $P(B) = 0.6$ and $P(A \\cap B) = 0.1$\n",
    "\n",
    "Which of the following statements are true?  \n",
    "**HINT: draw a big Venn Diagram by your side**  \n",
    "1. $P(\\overline{A}) = 0.7$\n",
    "2. $P(A \\cup B) = 0.6$\n",
    "3. $P(A \\cap \\overline{B}) = 0.2$\n",
    "4. $P(A \\cup \\overline{A}) = 1$  \n",
    "5. $P(A \\cap (B \\cup \\overline{B})) = 0.4$\n",
    "6. $P(\\overline{A} \\cap \\overline{B}) = 0.3$\n",
    "7. $P(\\overline{A \\cap B}) = 0.9$"
   ]
  },
  {
   "cell_type": "code",
   "execution_count": 13,
   "metadata": {},
   "outputs": [
    {
     "name": "stdout",
     "output_type": "stream",
     "text": [
      "0.7999999999999999\n",
      "0.19999999999999998\n"
     ]
    }
   ],
   "source": [
    "# 1 True\n",
    "\n",
    "# 2 False\n",
    "p_u_b = 0.3+0.6-0.1\n",
    "print(p_u_b)\n",
    "\n",
    "# 3 True\n",
    "p_n_nb = 0.3 - 0.1 # P(A) - P(A n B)\n",
    "print(p_n_nb)\n",
    "\n",
    "# 4 True\n",
    "# By definition \n",
    "\n",
    "# 5 False\n",
    "# A intersected with 1 is A, P(A) is 0.3\n",
    "\n",
    "# 6 False\n",
    "# This would be the oposite of the union of A and B, so it would be 1-0.8 = 0.2\n",
    "\n",
    "# 7 True\n",
    "# 1 - 0.1 =  0.9"
   ]
  },
  {
   "cell_type": "markdown",
   "metadata": {},
   "source": [
    "## Challenge 4\n",
    "\n",
    " * If someone flies to China, the probability of getting Covid is 1%  \n",
    " * If someone flies to Italy, the probability of getting Covid is 20%  \n",
    "\n",
    "I roll 1 dice with numbers 1, 2, 3, 4, 5, 6:  \n",
    " * If 1: I fly to Italy\n",
    " * If not 1: I fly to China\n",
    "\n",
    "During my trip, I got Covid. What is the probability that I flew to China?"
   ]
  },
  {
   "cell_type": "code",
   "execution_count": 15,
   "metadata": {},
   "outputs": [
    {
     "data": {
      "text/plain": [
       "0.16666666666666669"
      ]
     },
     "execution_count": 15,
     "metadata": {},
     "output_type": "execute_result"
    }
   ],
   "source": [
    "# Probabillity of having going to china given that I got covid is obtained by multiplying the probability of having covid going to china by the probability of going to china and dividing it by the probability of getting covid (tree)\n",
    "\n",
    "p_china_given_covid = ((0.01*(5/6))*(5/6))/((0.01*(5/6))+(0.2*(1/6)))\n",
    "p_china_given_covid"
   ]
  },
  {
   "cell_type": "code",
   "execution_count": null,
   "metadata": {},
   "outputs": [],
   "source": [
    "\"\"\"\n",
    "your solution here\n",
    "\"\"\""
   ]
  },
  {
   "cell_type": "markdown",
   "metadata": {},
   "source": [
    "## BONUS\n",
    "\n",
    "You roll 2 dice. What is the probability that the sum of the numbers is 7? And 8? And 9? Then simulate 10000 times and draw a countplot."
   ]
  },
  {
   "cell_type": "markdown",
   "metadata": {},
   "source": [
    "your explanation here"
   ]
  },
  {
   "cell_type": "code",
   "execution_count": 28,
   "metadata": {},
   "outputs": [],
   "source": [
    "import random\n",
    "import pandas as pd"
   ]
  },
  {
   "cell_type": "code",
   "execution_count": 27,
   "metadata": {},
   "outputs": [
    {
     "name": "stdout",
     "output_type": "stream",
     "text": [
      "0.16666666666666666\n",
      "0.1388888888888889\n",
      "0.1111111111111111\n"
     ]
    }
   ],
   "source": [
    "p_roll_7 = ((1/6)*(1/6))*6\n",
    "print(p_roll_7)\n",
    "\n",
    "p_roll_8 = ((1/6)*(1/6))*5\n",
    "print(p_roll_8)\n",
    "\n",
    "p_roll_9 = ((1/6)*(1/6))*4\n",
    "print(p_roll_9)"
   ]
  },
  {
   "cell_type": "code",
   "execution_count": 40,
   "metadata": {},
   "outputs": [
    {
     "data": {
      "text/plain": [
       "7     1656\n",
       "8     1423\n",
       "6     1412\n",
       "9     1086\n",
       "5     1086\n",
       "10     847\n",
       "4      843\n",
       "3      571\n",
       "11     542\n",
       "2      289\n",
       "12     245\n",
       "Name: result, dtype: int64"
      ]
     },
     "execution_count": 40,
     "metadata": {},
     "output_type": "execute_result"
    }
   ],
   "source": [
    "sample_space = [1,2,3,4,5,6]\n",
    "throws = 10000\n",
    "throw1 = random.choices(sample_space, k=throws)\n",
    "throw2 = random.choices(sample_space, k=throws)\n",
    "\n",
    "df = pd.DataFrame({\"throw 1\":throw1, \"throw 2\":throw2})\n",
    "df[\"result\"] = df[\"throw 1\"]+df[\"throw 2\"]\n",
    "df[\"result\"].value_counts()"
   ]
  },
  {
   "cell_type": "code",
   "execution_count": null,
   "metadata": {},
   "outputs": [],
   "source": []
  }
 ],
 "metadata": {
  "kernelspec": {
   "display_name": "ironhack",
   "language": "python",
   "name": "python3"
  },
  "language_info": {
   "codemirror_mode": {
    "name": "ipython",
    "version": 3
   },
   "file_extension": ".py",
   "mimetype": "text/x-python",
   "name": "python",
   "nbconvert_exporter": "python",
   "pygments_lexer": "ipython3",
   "version": "3.9.12"
  },
  "toc": {
   "base_numbering": 1,
   "nav_menu": {},
   "number_sections": false,
   "sideBar": true,
   "skip_h1_title": false,
   "title_cell": "Table of Contents",
   "title_sidebar": "Contents",
   "toc_cell": false,
   "toc_position": {
    "height": "calc(100% - 180px)",
    "left": "10px",
    "top": "150px",
    "width": "296.475px"
   },
   "toc_section_display": true,
   "toc_window_display": false
  },
  "varInspector": {
   "cols": {
    "lenName": 16,
    "lenType": 16,
    "lenVar": 40
   },
   "kernels_config": {
    "python": {
     "delete_cmd_postfix": "",
     "delete_cmd_prefix": "del ",
     "library": "var_list.py",
     "varRefreshCmd": "print(var_dic_list())"
    },
    "r": {
     "delete_cmd_postfix": ") ",
     "delete_cmd_prefix": "rm(",
     "library": "var_list.r",
     "varRefreshCmd": "cat(var_dic_list()) "
    }
   },
   "types_to_exclude": [
    "module",
    "function",
    "builtin_function_or_method",
    "instance",
    "_Feature"
   ],
   "window_display": false
  },
  "vscode": {
   "interpreter": {
    "hash": "040cc3bc635ced6b7bd06061cee05b180da847b8bda19980ce03d0b6ac3f4a36"
   }
  }
 },
 "nbformat": 4,
 "nbformat_minor": 2
}
