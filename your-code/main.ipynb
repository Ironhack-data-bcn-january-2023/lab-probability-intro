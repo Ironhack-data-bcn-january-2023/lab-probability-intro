{
 "cells": [
  {
   "cell_type": "markdown",
   "metadata": {},
   "source": [
    "# Probability"
   ]
  },
  {
   "cell_type": "markdown",
   "metadata": {},
   "source": [
    "## Challenge 1\n",
    "There is a box with 10 white balls, 12 red balls and 8 black balls. Calculate the probability of:\n",
    "* Taking a white ball out.\n",
    "* Taking a white ball on first extraction and a black ball out on second extraction without replacing the first one.\n",
    "* Taking a white ball on first extraction and a black ball out on second extraction replacing the first one.\n",
    "* Taking 3 balls and them being all different colours."
   ]
  },
  {
   "cell_type": "code",
   "execution_count": 1,
   "metadata": {},
   "outputs": [
    {
     "data": {
      "text/plain": [
       "0.03940886699507389"
      ]
     },
     "execution_count": 1,
     "metadata": {},
     "output_type": "execute_result"
    }
   ],
   "source": [
    "white = 10\n",
    "red = 12\n",
    "black = 8\n",
    "total = white + red + black #30\n",
    "\n",
    "Pw = 10/30\n",
    "\n",
    "P_w_b_dep = (10/30) * (8/29)\n",
    "\n",
    "P_w_b_ind = (10/30) * (8/30)\n",
    "\n",
    "\n"
   ]
  },
  {
   "cell_type": "code",
   "execution_count": 5,
   "metadata": {},
   "outputs": [
    {
     "data": {
      "text/plain": [
       "0.23645320197044334"
      ]
     },
     "execution_count": 5,
     "metadata": {},
     "output_type": "execute_result"
    }
   ],
   "source": [
    "import math \n",
    "\n",
    "P_three = (10/30) * (12/29) * (8/28) \n",
    "\n",
    "num_orderings = math.factorial(3) # the amount of elements to permutate \n",
    "\n",
    "Prob_three = P_three * num_orderings\n",
    "\n",
    "Prob_three"
   ]
  },
  {
   "cell_type": "markdown",
   "metadata": {},
   "source": [
    "## Challenge 2\n",
    "\n",
    "You want to go on picnic on Saturday. You hate rain, and would know to plan your weekend. To help you make a decision, you gather the following data about rainy days:\n",
    "\n",
    "* 40% of all days are cloudy.\n",
    "* About 50% of cloudy days are rainy. \n",
    "* About 20% of non-cloudy days are rainy.\n",
    "\n",
    "What is the chance of rain during next Saturday?"
   ]
  },
  {
   "cell_type": "code",
   "execution_count": 6,
   "metadata": {},
   "outputs": [
    {
     "data": {
      "text/plain": [
       "0.32"
      ]
     },
     "execution_count": 6,
     "metadata": {},
     "output_type": "execute_result"
    }
   ],
   "source": [
    "cloudy = 0.4\n",
    "\n",
    "not_cloudy = 0.6\n",
    "\n",
    "rain_given_cloudy = 0.5\n",
    "\n",
    "rain_given_not_cloudy = 0.2\n",
    "\n",
    "# P(rain) = P(cloudy) * P(rain | cloudy) + P(not cloudy) * P(rain | not cloudy)\n",
    "\n",
    "P_rain = (cloudy * rain_given_cloudy) + (not_cloudy * rain_given_not_cloudy)\n",
    "\n",
    "P_rain\n",
    "\n",
    "\n",
    "\n"
   ]
  },
  {
   "cell_type": "markdown",
   "metadata": {},
   "source": [
    "## Challenge 3\n",
    "\n",
    "A and B are events of a probability such that $P(A) = 0.3$, $P(B) = 0.6$ and $P(A \\cap B) = 0.1$\n",
    "\n",
    "Which of the following statements are true?  \n",
    "**HINT: draw a big Venn Diagram by your side**  \n",
    "* $P(\\overline{A}) = 0.7$\n",
    "* $P(A \\cup B) = 0.6$\n",
    "* $P(A \\cap \\overline{B}) = 0.2$\n",
    "* $P(A \\cup \\overline{A}) = 1$  \n",
    "* $P(A \\cap (B \\cup \\overline{B})) = 0.4$\n",
    "* $P(\\overline{A} \\cap \\overline{B}) = 0.3$\n",
    "* $P(\\overline{A \\cap B}) = 0.9$"
   ]
  },
  {
   "cell_type": "code",
   "execution_count": 17,
   "metadata": {},
   "outputs": [
    {
     "data": {
      "text/plain": [
       "0.7"
      ]
     },
     "execution_count": 17,
     "metadata": {},
     "output_type": "execute_result"
    }
   ],
   "source": [
    "a = 0.3\n",
    "b = 0.6\n",
    "\n",
    "# 1. 𝑃(A)=1−𝑃(𝐴')\n",
    "P = 1 - a #TRUE\n",
    "\n",
    "# 2. P(A U B) = P(A) + P(B)\n",
    "P = a + b\n",
    "\n",
    "# 3. The probability that event A occurs and event B does not occur.\n",
    "    # P(A ∩ B') = P(A) - P(A ∩ B)\n",
    "    # True\n",
    "P = 0.3 - 0.1\n",
    "\n",
    "\n",
    "# 4. P(A U A') \n",
    "    # P (A) = 0.3\n",
    "    # P(A') = 0.7\n",
    "P = 1\n",
    "\n",
    "# 5. P Intersection A and the result of B union with Not B \n",
    "    # Since (B U not B) = 1 that is EVERYTHING\n",
    "    # P(A ∩ (B U not B)) = P(A ∩ Ω) -> all possible occurences\n",
    "    # P(A ∩ (B U not B)) = P(A ∩ EVERYTING)\n",
    "    # P(A ∩ (B U not B)) = P(A)\n",
    "    # False \n",
    "\n",
    "# 6. \n",
    "    # P(not A) = 1 - P(A) = 0.7\n",
    "    # P(not B) = 1 - P(B) = 0.4\n",
    "    # P(not A ∩ not  B) = 1 – P(A ∪ B) \n",
    "     # False \n",
    "P = 1 - 0.3\n",
    "\n",
    "# 7. \n",
    "    # P(A ∩ B)' the probability that both A and B WILL NOT OCCUR\n",
    "    # P(A ∩ B)' = 1 - P(A ∩ B) = 1 - 0.1 = 0.9\n",
    "P = 1 - 0.9\n"
   ]
  },
  {
   "cell_type": "markdown",
   "metadata": {},
   "source": [
    "## Challenge 4\n",
    "\n",
    " * If someone flies to China, the probability of getting Covid is 1%  \n",
    " * If someone flies to Italy, the probability of getting Covid is 20%  \n",
    "\n",
    "I roll 1 dice with numbers 1, 2, 3, 4, 5, 6:  \n",
    " * If 1: I fly to Italy\n",
    " * If not 1: I fly to China\n",
    "\n",
    "During my trip, I got Covid. What is the probability that I flew to China?"
   ]
  },
  {
   "cell_type": "code",
   "execution_count": 20,
   "metadata": {},
   "outputs": [
    {
     "data": {
      "text/plain": [
       "0.007936507936507936"
      ]
     },
     "execution_count": 20,
     "metadata": {},
     "output_type": "execute_result"
    }
   ],
   "source": [
    "import random\n",
    "\n",
    "China = 0.01\n",
    "Italy = 0.2\n",
    "\n",
    "# P(China | Covid) = P(China U Covid) / P(Covid)\n",
    "\n",
    "# P(China) : 1/6 (probability of rolling the dice and getting 1)\n",
    "# P(Italy): 5/6 (probability of rolling the dice and getting the other numbers)\n",
    "\n",
    "# P(Covid): P(Covid | China) + P(Covid | Italy)\n",
    "# P(Covid): 0.01 + 0.2 \n",
    "P_covid = 0.01 + 0.2\n",
    "\n",
    "# P(China U Covid)\n",
    "# P(China) * P(Covid)\n",
    "P_China_Covid = (1/6) * 0.01\n",
    "\n",
    "# P(China | Covid) = P(China U Covid) / P(Covid)\n",
    "P_China = P_China_Covid / P_covid\n",
    "\n",
    "P_China\n",
    "\n"
   ]
  },
  {
   "cell_type": "code",
   "execution_count": null,
   "metadata": {},
   "outputs": [],
   "source": [
    "\"\"\"\n",
    "your solution here\n",
    "\"\"\""
   ]
  },
  {
   "cell_type": "markdown",
   "metadata": {},
   "source": [
    "## BONUS\n",
    "\n",
    "You roll 2 dice. What is the probability that the sum of the numbers is 7? And 8? And 9? Then simulate 10000 times and draw a countplot."
   ]
  },
  {
   "cell_type": "markdown",
   "metadata": {},
   "source": [
    "your explanation here"
   ]
  },
  {
   "cell_type": "code",
   "execution_count": null,
   "metadata": {},
   "outputs": [],
   "source": [
    "# your code here"
   ]
  },
  {
   "cell_type": "code",
   "execution_count": null,
   "metadata": {},
   "outputs": [],
   "source": [
    "\"\"\"\n",
    "your solution here\n",
    "\"\"\""
   ]
  }
 ],
 "metadata": {
  "kernelspec": {
   "display_name": "ironhack",
   "language": "python",
   "name": "python3"
  },
  "language_info": {
   "codemirror_mode": {
    "name": "ipython",
    "version": 3
   },
   "file_extension": ".py",
   "mimetype": "text/x-python",
   "name": "python",
   "nbconvert_exporter": "python",
   "pygments_lexer": "ipython3",
   "version": "3.10.9"
  },
  "toc": {
   "base_numbering": 1,
   "nav_menu": {},
   "number_sections": false,
   "sideBar": true,
   "skip_h1_title": false,
   "title_cell": "Table of Contents",
   "title_sidebar": "Contents",
   "toc_cell": false,
   "toc_position": {
    "height": "calc(100% - 180px)",
    "left": "10px",
    "top": "150px",
    "width": "296.475px"
   },
   "toc_section_display": true,
   "toc_window_display": false
  },
  "varInspector": {
   "cols": {
    "lenName": 16,
    "lenType": 16,
    "lenVar": 40
   },
   "kernels_config": {
    "python": {
     "delete_cmd_postfix": "",
     "delete_cmd_prefix": "del ",
     "library": "var_list.py",
     "varRefreshCmd": "print(var_dic_list())"
    },
    "r": {
     "delete_cmd_postfix": ") ",
     "delete_cmd_prefix": "rm(",
     "library": "var_list.r",
     "varRefreshCmd": "cat(var_dic_list()) "
    }
   },
   "types_to_exclude": [
    "module",
    "function",
    "builtin_function_or_method",
    "instance",
    "_Feature"
   ],
   "window_display": false
  },
  "vscode": {
   "interpreter": {
    "hash": "f203a748e2f948e55babe9d1df90db55916c8d5c81c121b0fe342ead3910b4b3"
   }
  }
 },
 "nbformat": 4,
 "nbformat_minor": 2
}
