{
 "cells": [
  {
   "cell_type": "markdown",
   "metadata": {},
   "source": [
    "# Probability"
   ]
  },
  {
   "cell_type": "markdown",
   "metadata": {},
   "source": [
    "## Challenge 1\n",
    "There is a box with 10 white balls, 12 red balls and 8 black balls. Calculate the probability of:\n",
    "* Taking a white ball out.\n",
    "* Taking a white ball on first extraction and a black ball out on second extraction without replacing the first one.\n",
    "* Taking a white ball on first extraction and a black ball out on second extraction replacing the first one.\n",
    "* Taking 3 balls and them being all different colours."
   ]
  },
  {
   "cell_type": "code",
   "execution_count": null,
   "metadata": {},
   "outputs": [],
   "source": [
    "\"\"\"\n",
    "1. P(W) = 10/30\n",
    "2. P(W) + P(B|W) -> 10/30 * 8/29\n",
    "3. 10/30 * (1/3*9/30 + 2/3*8/30)\n",
    "4. 3! *(12*10*8) / (30*29*28) since there are 6 different permutations\n",
    "\"\"\""
   ]
  },
  {
   "cell_type": "markdown",
   "metadata": {},
   "source": [
    "## Challenge 2\n",
    "\n",
    "You want to go on picnic on Saturday. You hate rain, and would know to plan your weekend. To help you make a decision, you gather the following data about rainy days:\n",
    "\n",
    "* 40% of all days are cloudy.\n",
    "* About 50% of cloudy days are rainy. \n",
    "* About 20% of non-cloudy days are rainy.\n",
    "\n",
    "What is the chance of rain during next Saturday?"
   ]
  },
  {
   "cell_type": "code",
   "execution_count": null,
   "metadata": {},
   "outputs": [],
   "source": [
    "\"\"\"\n",
    "your solution here\n",
    "P(RAIN) = 0.4*0.2 + 0.6*0.2 = 0.32\n",
    "\"\"\""
   ]
  },
  {
   "attachments": {},
   "cell_type": "markdown",
   "metadata": {},
   "source": [
    "## Challenge 3\n",
    "\n",
    "A and B are events of a probability such that $P(A) = 0.3$, $P(B) = 0.6$ and $P(A \\cap B) = 0.1$\n",
    "\n",
    "Which of the following statements are true?  \n",
    "**HINT: draw a big Venn Diagram by your side**  \n",
    "* $P(\\overline{A}) = 0.7$\n",
    "* $P(A \\cup B) = 0.6$\n",
    "* $P(A \\cap \\overline{B}) = 0.2$\n",
    "* $P(A \\cup \\overline{A}) = 1$  \n",
    "* $P(A \\cap (B \\cup \\overline{B})) = 0.4$\n",
    "* $P(\\overline{A} \\cap \\overline{B}) = 0.3$\n",
    "* $P(\\overline{A \\cap B}) = 0.9$"
   ]
  },
  {
   "attachments": {},
   "cell_type": "markdown",
   "metadata": {},
   "source": [
    "your solution here:\n",
    "\n",
    "1. * True: 0.7 = 1-P(A) -> 1 - 0.3\n",
    "2. * False: P(A U B) = P(A) + P(B) - P(A n B) = 0.3 + 0.6 - 0.1 = 0.8\n",
    "3. * True: A - P(A n B) = 0.3- 0.1 = 0.2\n",
    "4. * True: P(A) + P(Â) = 0.3 + 0.7 = 1\n",
    "5. * False: intersection of A with the sample space is A, 0.3 ≠ 0.4\n",
    "6. * False: intersection of everything not in A or B is 1 - (P(A) + P(B) - P(AnB)) = 0.2 ≠ 0.3\n",
    "7. * True: $P(\\overline{A \\cap B})$ = 1 - $P({A \\cap B})  $ -> 1 - 0.1 = 0.9"
   ]
  },
  {
   "cell_type": "markdown",
   "metadata": {},
   "source": [
    "## Challenge 4\n",
    "\n",
    " * If someone flies to China, the probability of getting Covid is 1%  \n",
    " * If someone flies to Italy, the probability of getting Covid is 20%  \n",
    "\n",
    "I roll 1 dice with numbers 1, 2, 3, 4, 5, 6:  \n",
    " * If 1: I fly to Italy\n",
    " * If not 1: I fly to China\n",
    "\n",
    "During my trip, I got Covid. What is the probability that I flew to China?"
   ]
  },
  {
   "attachments": {},
   "cell_type": "markdown",
   "metadata": {},
   "source": [
    "Answer:\n",
    "\n",
    "The probability of having travelled to China is 20%.\n",
    "\n",
    "We compute P(China|Covid) = P(China n Covid) / P (Covid).\n",
    "\n",
    "P(China n Covid) = 5/6 * 1/600\n",
    "P(Covid) = 1/6 * 0.2 + 5/6 * 1/100\n",
    "\n",
    "(5/6 * 1/600) / (1/6 * 0.2 + 5/6 * 1/100) = 0.2\n"
   ]
  },
  {
   "cell_type": "markdown",
   "metadata": {},
   "source": [
    "## BONUS\n",
    "\n",
    "You roll 2 dice. What is the probability that the sum of the numbers is 7? And 8? And 9? Then simulate 10000 times and draw a countplot."
   ]
  },
  {
   "cell_type": "markdown",
   "metadata": {},
   "source": [
    "your explanation here"
   ]
  },
  {
   "attachments": {},
   "cell_type": "markdown",
   "metadata": {},
   "source": [
    "The probability of having a 7 as sum of the two dices is always the same after the first throw: whatever the result is, we'll have 1/6 probabilities to have a second result that adds the first to 7. Thus, depending on the first throw, we will need one or another result. For example, if the first throw is a 1, we'll need a 6. If it is a 4, we'll need a 3.\n",
    "\n",
    "For these reasons, we make use of conditioned probability with independent events, where:\n",
    "\n",
    "P(A|B) = (P(A)*P(B))/P(B) = P(A) = 1/6\n",
    "\n",
    "The probabilities that the sum is 7 are 1/6.\n",
    "\n",
    "For any greater number, the logic is the same P(A|B) = (P(A)*P(B))/P(B), being P(A) the probabilities to get the required number to sum up to the desired amount. The difference will be that, depending on the first result, it might be the case that the target is not reachable\n",
    "\n",
    "E.g. target = 8.\n",
    "if first dice (A) = 1, there won't be no options for second dice (B) -> P(7) = 0\n",
    "\n",
    "For 2\n",
    "1/6 * 1/6\n",
    "\n",
    "For 3\n",
    "2/6 * 1/6\n",
    "\n",
    "For 4\n",
    "3/6 * 1/6\n",
    "\n",
    "For 5\n",
    "4/6 * 1/6\n",
    "\n",
    "For 6\n",
    "5/6 * 1/6\n",
    "\n",
    "For 7\n",
    "6/6 * 1/6 \n",
    "\n",
    "FOR 8\n",
    "5/6 * 1/6\n",
    "\n",
    "FOR 9\n",
    "4/6 * 1/6\n",
    "\n",
    "FOR 10\n",
    "3/6 * 1/6\n",
    "\n",
    "For 11\n",
    "2/5 * 1/6\n",
    "\n",
    "For 12\n",
    "1/6 * 1/6"
   ]
  },
  {
   "cell_type": "code",
   "execution_count": 35,
   "metadata": {},
   "outputs": [],
   "source": [
    "def dice_experiment (tests):\n",
    "    import random\n",
    "    import seaborn as sns\n",
    "    import pandas as pd\n",
    "    # a and b are between 1 and 6\n",
    "    x = random.choices(range(1,7), k=tests)\n",
    "    y = random.choices(range(1,7), k=tests)\n",
    "    \n",
    "\n",
    "    comp_list = [x[i] + y[i] for i in range(len(x))]\n",
    "    serie = pd.Series(comp_list)\n",
    "\n",
    "    plot = sns.lineplot(data=serie.value_counts())\n",
    "    \n",
    "    return plot"
   ]
  },
  {
   "cell_type": "code",
   "execution_count": 37,
   "metadata": {},
   "outputs": [
    {
     "data": {
      "image/png": "[encoded data removed]",
      "text/plain": [
       "<Figure size 432x288 with 1 Axes>"
      ]
     },
     "metadata": {
      "needs_background": "light"
     },
     "output_type": "display_data"
    }
   ],
   "source": [
    "x = dice_experiment(1000000)"
   ]
  },
  {
   "cell_type": "code",
   "execution_count": null,
   "metadata": {},
   "outputs": [],
   "source": []
  }
 ],
 "metadata": {
  "kernelspec": {
   "display_name": "ironhack",
   "language": "python",
   "name": "python3"
  },
  "language_info": {
   "codemirror_mode": {
    "name": "ipython",
    "version": 3
   },
   "file_extension": ".py",
   "mimetype": "text/x-python",
   "name": "python",
   "nbconvert_exporter": "python",
   "pygments_lexer": "ipython3",
   "version": "3.9.12"
  },
  "toc": {
   "base_numbering": 1,
   "nav_menu": {},
   "number_sections": false,
   "sideBar": true,
   "skip_h1_title": false,
   "title_cell": "Table of Contents",
   "title_sidebar": "Contents",
   "toc_cell": false,
   "toc_position": {
    "height": "calc(100% - 180px)",
    "left": "10px",
    "top": "150px",
    "width": "296.475px"
   },
   "toc_section_display": true,
   "toc_window_display": false
  },
  "varInspector": {
   "cols": {
    "lenName": 16,
    "lenType": 16,
    "lenVar": 40
   },
   "kernels_config": {
    "python": {
     "delete_cmd_postfix": "",
     "delete_cmd_prefix": "del ",
     "library": "var_list.py",
     "varRefreshCmd": "print(var_dic_list())"
    },
    "r": {
     "delete_cmd_postfix": ") ",
     "delete_cmd_prefix": "rm(",
     "library": "var_list.r",
     "varRefreshCmd": "cat(var_dic_list()) "
    }
   },
   "types_to_exclude": [
    "module",
    "function",
    "builtin_function_or_method",
    "instance",
    "_Feature"
   ],
   "window_display": false
  },
  "vscode": {
   "interpreter": {
    "hash": "79e8e12960902be9b96136e06f35e6a59d5d8c359e0492f5e08d8a671bbdf383"
   }
  }
 },
 "nbformat": 4,
 "nbformat_minor": 2
}
