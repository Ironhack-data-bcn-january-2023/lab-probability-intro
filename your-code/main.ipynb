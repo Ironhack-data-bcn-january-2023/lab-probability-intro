{
 "cells": [
  {
   "cell_type": "markdown",
   "metadata": {},
   "source": [
    "# Probability"
   ]
  },
  {
   "cell_type": "markdown",
   "metadata": {},
   "source": [
    "## Challenge 1\n",
    "There is a box with 10 white balls, 12 red balls and 8 black balls. Calculate the probability of:\n",
    "* Taking a white ball out.\n",
    "* Taking a white ball on first extraction and a black ball out on second extraction without replacing the first one.\n",
    "* Taking a white ball on first extraction and a black ball out on second extraction replacing the first one.\n",
    "* Taking 3 balls and them being all different colours."
   ]
  },
  {
   "cell_type": "code",
   "execution_count": 1,
   "metadata": {},
   "outputs": [
    {
     "name": "stdout",
     "output_type": "stream",
     "text": [
      "Probability of taking a white ball out: 0.3333333333333333\n",
      "Probability of taking a white ball on first extraction and a black ball out on second extraction without replacing the first one: 0.09195402298850575\n",
      "Probability of taking a white ball on first extraction and a black ball out on second extraction replacing the first one: 0.08888888888888888\n",
      "Probability of taking 3 balls and them being all different colours: 0.03940886699507389\n"
     ]
    }
   ],
   "source": [
    "# probability of taking a white ball out(total of 30)\n",
    "total_balls = 10 + 12 + 8 \n",
    "white_balls = 10\n",
    "p_white_ball = white_balls / total_balls\n",
    "print(\"Probability of taking a white ball out:\", p_white_ball)\n",
    "\n",
    "# probability of taking a white ball on first extraction and a black ball out on second extraction without replacing the first one\n",
    "p_white_ball_first = white_balls / total_balls\n",
    "p_black_ball_second = 8 / (total_balls - 1)\n",
    "p_both = p_white_ball_first * p_black_ball_second\n",
    "print(\"Probability of taking a white ball on first extraction and a black ball out on second extraction without replacing the first one:\", p_both)\n",
    "\n",
    "# probability of taking a white ball on first extraction and a black ball out on second extraction replacing the first one\n",
    "p_black_ball_second_replaced = 8 / total_balls\n",
    "p_both_replaced = p_white_ball_first * p_black_ball_second_replaced\n",
    "print(\"Probability of taking a white ball on first extraction and a black ball out on second extraction replacing the first one:\", p_both_replaced)\n",
    "\n",
    "# probability of taking 3 balls and them being all different colours\n",
    "p_diff_colors = (10/total_balls) * (12/(total_balls-1)) * (8/(total_balls-2))\n",
    "print(\"Probability of taking 3 balls and them being all different colours:\", p_diff_colors)\n"
   ]
  },
  {
   "cell_type": "markdown",
   "metadata": {},
   "source": [
    "## Challenge 2\n",
    "\n",
    "You want to go on picnic on Saturday. You hate rain, and would know to plan your weekend. To help you make a decision, you gather the following data about rainy days:\n",
    "\n",
    "* 40% of all days are cloudy.\n",
    "* About 50% of cloudy days are rainy. \n",
    "* About 20% of non-cloudy days are rainy.\n",
    "\n",
    "What is the chance of rain during next Saturday?"
   ]
  },
  {
   "cell_type": "code",
   "execution_count": 2,
   "metadata": {},
   "outputs": [
    {
     "name": "stdout",
     "output_type": "stream",
     "text": [
      "The chance of rain during next Saturday is: 0.32\n"
     ]
    }
   ],
   "source": [
    "# probability that it will be cloudy on Saturday\n",
    "p_cloudy = 0.4\n",
    "\n",
    "# probability that it will not be cloudy on Saturday\n",
    "p_not_cloudy = 1 - p_cloudy\n",
    "\n",
    "# probability of rain given that it's cloudy\n",
    "p_rain_given_cloudy = 0.5\n",
    "\n",
    "# probability of rain given that it's not cloudy\n",
    "p_rain_given_not_cloudy = 0.2\n",
    "\n",
    "# probability of rain on Saturday\n",
    "p_rain = (p_cloudy * p_rain_given_cloudy) + (p_not_cloudy * p_rain_given_not_cloudy)\n",
    "\n",
    "print(\"The chance of rain during next Saturday is:\", p_rain)\n"
   ]
  },
  {
   "cell_type": "markdown",
   "metadata": {},
   "source": [
    "## Challenge 3\n",
    "\n",
    "A and B are events of a probability such that $P(A) = 0.3$, $P(B) = 0.6$ and $P(A \\cap B) = 0.1$\n",
    "\n",
    "Which of the following statements are true?  \n",
    "**HINT: draw a big Venn Diagram by your side**  \n",
    "* $P(\\overline{A}) = 0.7$\n",
    "* $P(A \\cup B) = 0.6$\n",
    "* $P(A \\cap \\overline{B}) = 0.2$\n",
    "* $P(A \\cup \\overline{A}) = 1$  \n",
    "* $P(A \\cap (B \\cup \\overline{B})) = 0.4$\n",
    "* $P(\\overline{A} \\cap \\overline{B}) = 0.3$\n",
    "* $P(\\overline{A \\cap B}) = 0.9$"
   ]
  },
  {
   "cell_type": "code",
   "execution_count": 3,
   "metadata": {},
   "outputs": [
    {
     "name": "stdout",
     "output_type": "stream",
     "text": [
      "Statement 1 is True\n",
      "Statement 2 is False\n",
      "Statement 3 is False\n",
      "Statement 4 is True\n",
      "Statement 5 is False\n",
      "Statement 6 is False\n",
      "Statement 7 is False\n"
     ]
    }
   ],
   "source": [
    "# given probabilities\n",
    "P_A = 0.3\n",
    "P_B = 0.6\n",
    "P_A_intersect_B = 0.1\n",
    "\n",
    "# probability of not A\n",
    "P_not_A = 1 - P_A\n",
    "\n",
    "# probability of A union B\n",
    "P_A_union_B = P_A + P_B - P_A_intersect_B\n",
    "\n",
    "# probability of A complement\n",
    "P_A_complement = 1 - P_A\n",
    "\n",
    "# probability of A intersection B complement\n",
    "P_A_intersect_not_B = P_A - P_A_intersect_B\n",
    "\n",
    "# probability of A union A complement\n",
    "P_A_union_A_complement = 1\n",
    "\n",
    "# probability of A intersection (B union B complement)\n",
    "P_A_intersect_B_union_not_B = P_A_intersect_B\n",
    "\n",
    "# probability of A complement intersection B complement\n",
    "P_A_complement_intersect_not_B_complement = (1 - P_A) * (1 - P_B)\n",
    "\n",
    "# check which statements are true\n",
    "statement_1 = P_A_complement == 0.7\n",
    "statement_2 = P_A_union_B == 0.6\n",
    "statement_3 = P_A_intersect_not_B == 0.2\n",
    "statement_4 = P_A_union_A_complement == 1\n",
    "statement_5 = P_A_intersect_B_union_not_B == 0.4\n",
    "statement_6 = P_A_complement_intersect_not_B_complement == 0.3\n",
    "statement_7 = P_A_intersect_not_B == 0.9\n",
    "\n",
    "# print the results\n",
    "print(\"Statement 1 is\", statement_1)\n",
    "print(\"Statement 2 is\", statement_2)\n",
    "print(\"Statement 3 is\", statement_3)\n",
    "print(\"Statement 4 is\", statement_4)\n",
    "print(\"Statement 5 is\", statement_5)\n",
    "print(\"Statement 6 is\", statement_6)\n",
    "print(\"Statement 7 is\", statement_7)\n"
   ]
  },
  {
   "cell_type": "markdown",
   "metadata": {},
   "source": [
    "## Challenge 4\n",
    "\n",
    " * If someone flies to China, the probability of getting Covid is 1%  \n",
    " * If someone flies to Italy, the probability of getting Covid is 20%  \n",
    "\n",
    "I roll 1 dice with numbers 1, 2, 3, 4, 5, 6:  \n",
    " * If 1: I fly to Italy\n",
    " * If not 1: I fly to China\n",
    "\n",
    "During my trip, I got Covid. What is the probability that I flew to China?"
   ]
  },
  {
   "cell_type": "code",
   "execution_count": null,
   "metadata": {},
   "outputs": [
    {
     "name": "stdout",
     "output_type": "stream",
     "text": [
      "the chance of you getting covid is  1.0\n",
      "0.21000000000000002\n"
     ]
    }
   ],
   "source": [
    "# your code here\n",
    "i = (1/6)\n",
    "c = (5/6)\n",
    "cov_i = (1/5)\n",
    "cov_c = (1/100)\n",
    "covid_prob = i*(cov_i/i) + c*(cov_c/c)\n",
    "total = (cov_c + cov_i) / covid_prob\n",
    "print(\"the chance of you getting covid is \", total)\n",
    "print(covid_prob)"
   ]
  },
  {
   "cell_type": "code",
   "execution_count": 8,
   "metadata": {},
   "outputs": [
    {
     "name": "stdout",
     "output_type": "stream",
     "text": [
      "The probability that you flew to China due to the fact that you got Covid is 0.200\n"
     ]
    }
   ],
   "source": [
    "p_covid_given_china = 0.01\n",
    "p_china = 5/6\n",
    "p_covid_given_italy = 0.2\n",
    "p_italy = 1/6\n",
    "\n",
    "p_covid = p_covid_given_china * p_china + p_covid_given_italy * p_italy\n",
    "p_china_given_covid = p_covid_given_china * p_china / p_covid\n",
    "\n",
    "print(f\"The probability that you flew to China given that you got Covid is {p_china_given_covid:.3f}\")\n"
   ]
  },
  {
   "cell_type": "code",
   "execution_count": null,
   "metadata": {},
   "outputs": [],
   "source": [
    "\"\"\"\n",
    "Chance of Italy + COVID = 1/6 * 1/5 = 1/30\n",
    "Chance of China + COVID = 5/6 * 1/100 = 1/120\n",
    "Total probs = (1/100 + 1/30) / .21 (total prob of covid)\n",
    "Total covid prob = (.01 * 5/6)/ ((.01*5/6) + (1/6*.2))\n",
    "\"\"\""
   ]
  },
  {
   "cell_type": "markdown",
   "metadata": {},
   "source": [
    "## BONUS\n",
    "\n",
    "You roll 2 dice. What is the probability that the sum of the numbers is 7? And 8? And 9? Then simulate 10000 times and draw a countplot."
   ]
  },
  {
   "cell_type": "markdown",
   "metadata": {},
   "source": [
    "your explanation here"
   ]
  },
  {
   "cell_type": "code",
   "execution_count": null,
   "metadata": {},
   "outputs": [],
   "source": [
    "\n"
   ]
  },
  {
   "cell_type": "code",
   "execution_count": null,
   "metadata": {},
   "outputs": [],
   "source": [
    "\"\"\"\n",
    "To get a sum of 7, there are 6 possible ways: (1, 6), (2, 5), (3, 4), (4, 3), (5, 2), and (6, 1). The probability of rolling each of these combinations is 1/6 * 1/6 = 1/36. Therefore, the probability of getting a sum of 7 is 6/36 or 1/6.\n",
    "To get a sum of 8, there are 5 possible ways: (2, 6), (3, 5), (4, 4), (5, 3), and (6, 2). The probability of rolling each of these combinations is 1/6 * 1/6 = 1/36. Therefore, the probability of getting a sum of 8 is 5/36.\n",
    "To get a sum of 9, there are 4 possible ways: (3, 6), (4, 5), (5, 4), and (6, 3). The probability of rolling each of these combinations is 1/6 * 1/6 = 1/36. Therefore, the probability of getting a sum of 9 is 4/36 or 1/9.\n",
    "\"\"\""
   ]
  }
 ],
 "metadata": {
  "kernelspec": {
   "display_name": "Python 3 (ipykernel)",
   "language": "python",
   "name": "python3"
  },
  "language_info": {
   "codemirror_mode": {
    "name": "ipython",
    "version": 3
   },
   "file_extension": ".py",
   "mimetype": "text/x-python",
   "name": "python",
   "nbconvert_exporter": "python",
   "pygments_lexer": "ipython3",
   "version": "3.10.4"
  },
  "toc": {
   "base_numbering": 1,
   "nav_menu": {},
   "number_sections": false,
   "sideBar": true,
   "skip_h1_title": false,
   "title_cell": "Table of Contents",
   "title_sidebar": "Contents",
   "toc_cell": false,
   "toc_position": {
    "height": "calc(100% - 180px)",
    "left": "10px",
    "top": "150px",
    "width": "296.475px"
   },
   "toc_section_display": true,
   "toc_window_display": false
  },
  "varInspector": {
   "cols": {
    "lenName": 16,
    "lenType": 16,
    "lenVar": 40
   },
   "kernels_config": {
    "python": {
     "delete_cmd_postfix": "",
     "delete_cmd_prefix": "del ",
     "library": "var_list.py",
     "varRefreshCmd": "print(var_dic_list())"
    },
    "r": {
     "delete_cmd_postfix": ") ",
     "delete_cmd_prefix": "rm(",
     "library": "var_list.r",
     "varRefreshCmd": "cat(var_dic_list()) "
    }
   },
   "types_to_exclude": [
    "module",
    "function",
    "builtin_function_or_method",
    "instance",
    "_Feature"
   ],
   "window_display": false
  }
 },
 "nbformat": 4,
 "nbformat_minor": 4
}
